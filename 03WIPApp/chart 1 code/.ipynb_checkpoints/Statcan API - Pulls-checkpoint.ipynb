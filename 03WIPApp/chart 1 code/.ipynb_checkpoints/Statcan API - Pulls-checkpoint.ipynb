{
 "cells": [
  {
   "cell_type": "code",
   "execution_count": 29,
   "metadata": {},
   "outputs": [],
   "source": [
    "import requests\n",
    "import pprint\n",
    "from json.decoder import JSONDecodeError\n",
    "import demjson\n",
    "import pandas as pd"
   ]
  },
  {
   "cell_type": "markdown",
   "metadata": {},
   "source": [
    "https://www12.statcan.gc.ca/rest/census-recensement/CPR2016.json?lang={lang}&dguid={dguid}&topic={topic}&notes={notes}&stat={stat}\n",
    "\n",
    "https://www12.statcan.gc.ca/rest/census-recensement/CPR2016.json?lang=E&dguid={dguid}&topic=3&notes=0&stat=0\n",
    "\n",
    "example\n",
    "https://www12.statcan.gc.ca/rest/census-recensement/CPR2016.json?lang=E&dguid=2016A0002{provincecode}&topic=3&notes=0&stat=0"
   ]
  },
  {
   "cell_type": "markdown",
   "metadata": {},
   "source": [
    "#Search the URL for all title\n",
    "url = \"https://www150.statcan.gc.ca/t1/wds/rest/getAllCubesListLite\"\n",
    "response = requests.get(url)\n",
    "table = response.json()\n",
    "print(table)"
   ]
  },
  {
   "cell_type": "markdown",
   "metadata": {},
   "source": [
    "### Statcan Ethnicity by Province Pull\n",
    "Ultimately, Statcan API is faulty because of improper JSON formatting. We have to download manually instead"
   ]
  },
  {
   "cell_type": "code",
   "execution_count": 3,
   "metadata": {},
   "outputs": [],
   "source": [
    "#the province codes\n",
    "province_code = [\"10\",\"11\",\"12\",\"13\",\"24\",\"35\",\"46\",\"47\",\"48\",\"59\",\"60\",\"61\",\"62\",\"01\"]\n",
    "\n",
    "\n"
   ]
  },
  {
   "cell_type": "markdown",
   "metadata": {},
   "source": [
    "pr_code= province_code[0]\n",
    "\n",
    "\n",
    "url = f'https://www12.statcan.gc.ca/rest/census-recensement/CPR2016.json?lang=E&dguid=2016A0002{pr_code}&topic=3&notes=0&stat=0'\n",
    "\n",
    "r = requests.get(url)\n",
    "\n",
    "response = demjson.decode(r.json() )\n",
    "\n"
   ]
  },
  {
   "cell_type": "markdown",
   "metadata": {},
   "source": [
    "for each province code,\n",
    "extract Item number:\n",
    "1, Province\n",
    "10, Ethnicity\n",
    "13,total data\n",
    "15,male data\n",
    "17: female data\n",
    "  \n",
    "  \n",
    "  North American Aboriginal origins\n",
    "  Other North American origins\n",
    "  European origins\n",
    "  Caribbean origins\n",
    "  Latin, Central and South American origins\n",
    "  African origins\n",
    "  Asian origins\n",
    "  Oceania origins\n"
   ]
  },
  {
   "cell_type": "markdown",
   "metadata": {},
   "source": [
    "# Accessing open Canada API\n",
    "\n",
    "\n",
    "Main URL: https://open.canada.ca/data/api/action/package_show?id=a1ec0348-451c-4666-b0ad-c5f0de9e19dd"
   ]
  },
  {
   "cell_type": "code",
   "execution_count": 21,
   "metadata": {},
   "outputs": [],
   "source": [
    "offender_dictionary = {\"year\":[\"offender_2013.xlsx\",\"offender_2014.xlsx\",\"offender_2015.xlsx\",\n",
    "                              \"offender_2016.xlsx\",\"offender_2017.xlsx\",\"offender_2018.xlsx\"],\n",
    "                       \"url\":[\"https://open.canada.ca/data/api/action/package_show?id=0301bc37-599b-4a68-b234-5a7fa85b6986\",\n",
    "                             \"https://open.canada.ca/data/api/action/package_show?id=106fbf2d-bfdb-4e82-9aef-7ad46bf6ffd2\",\n",
    "                             \"https://open.canada.ca/data/api/action/package_show?id=a4be025b-6bb8-4b07-bd85-3d56c95158ed\",\n",
    "                             \"https://open.canada.ca/data/api/action/package_show?id=0e7e0464-aa20-42ae-8282-3d778ae925a3\",\n",
    "                             \"https://open.canada.ca/data/api/action/package_show?id=61f9e22f-c739-4ccf-9d84-0e1eaec3561d\",\n",
    "                             \"https://open.canada.ca/data/api/action/package_show?id=844ff1e3-e137-41be-9ebe-6bd9843c1a53\"]\n",
    "                      }\n"
   ]
  },
  {
   "cell_type": "code",
   "execution_count": 26,
   "metadata": {},
   "outputs": [],
   "source": [
    "#create a loop that download all data\n",
    "\n",
    "offender_year= offender_dictionary[\"year\"]\n",
    "offender_url= offender_dictionary[\"url\"]\n",
    "\n",
    "\n",
    "for x in range(0, len(offender_dictionary[\"year\"]) ):\n",
    "    open_canada_url1 = offender_dictionary[\"url\"][x]\n",
    "    r = requests.get(open_canada_url1)\n",
    "    response = r.json()\n",
    "    #get url with excel\n",
    "    excel_url = response[\"result\"][\"resources\"][2][\"url\"]\n",
    "\n",
    "    get_excel = requests.get(excel_file, allow_redirects=True)\n",
    "    open(offender_dictionary[\"year\"][x], 'wb').write(get_excel.content)"
   ]
  },
  {
   "cell_type": "markdown",
   "metadata": {},
   "source": [
    "# test\n",
    "\n",
    "open_canada_url1 = offender_dictionary[\"url\"][0]\n",
    "r = requests.get(open_canada_url1)\n",
    "response = r.json()\n",
    "\n",
    "excel_url = response[\"result\"][\"resources\"][2][\"url\"]\n",
    "\n",
    "get_excel = requests.get(excel_file, allow_redirects=True)\n",
    "open(offender_dictionary[\"year\"][0], 'wb').write(get_excel.content)"
   ]
  },
  {
   "cell_type": "code",
   "execution_count": null,
   "metadata": {},
   "outputs": [],
   "source": []
  }
 ],
 "metadata": {
  "kernelspec": {
   "display_name": "Python 3",
   "language": "python",
   "name": "python3"
  },
  "language_info": {
   "codemirror_mode": {
    "name": "ipython",
    "version": 3
   },
   "file_extension": ".py",
   "mimetype": "text/x-python",
   "name": "python",
   "nbconvert_exporter": "python",
   "pygments_lexer": "ipython3",
   "version": "3.7.4"
  }
 },
 "nbformat": 4,
 "nbformat_minor": 2
}
